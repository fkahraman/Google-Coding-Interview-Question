{
 "cells": [
  {
   "cell_type": "code",
   "execution_count": 1,
   "id": "4c2d09d3",
   "metadata": {},
   "outputs": [
    {
     "data": {
      "text/plain": [
       "'\\n        Author : Fatih Kahraman\\n        Mail   : fatih.khrmn@hotmail.com\\n'"
      ]
     },
     "execution_count": 1,
     "metadata": {},
     "output_type": "execute_result"
    }
   ],
   "source": [
    "\"\"\"\n",
    "        Author : Fatih Kahraman\n",
    "        Mail   : fatih.khrmn@hotmail.com\n",
    "\"\"\""
   ]
  },
  {
   "cell_type": "code",
   "execution_count": 2,
   "id": "1aae4a07",
   "metadata": {},
   "outputs": [
    {
     "data": {
      "text/plain": [
       "'\\n        Convert non-adjacent ones to zero and return this array.\\n'"
      ]
     },
     "execution_count": 2,
     "metadata": {},
     "output_type": "execute_result"
    }
   ],
   "source": [
    "\"\"\"\n",
    "        Convert non-adjacent ones to zero and return this array.\n",
    "\"\"\""
   ]
  },
  {
   "cell_type": "code",
   "execution_count": 3,
   "id": "4fd04efa",
   "metadata": {},
   "outputs": [],
   "source": [
    "class Corner:\n",
    "\n",
    "    def __init__(self, array):\n",
    "        self.array = array\n",
    "        self.cornerList = []\n",
    "        self.neighbors = [] # all connect item\n",
    "        self.catchCoordinate = [] # catch this time\n",
    "        self.lastCatchCoordinate = [] # last catch\n",
    "\n",
    "    def findCorner(self):\n",
    "        for y, line in enumerate(self.array):\n",
    "            for x, value in enumerate(line):\n",
    "                if value:\n",
    "                    if (x == 0 or x == 5) or (y == 0 or y == 5):\n",
    "                            self.cornerList.append([y,x])\n",
    "                    else:\n",
    "                        pass\n",
    "                else:\n",
    "                    pass\n",
    "        self.neighbors = self.cornerList.copy()\n",
    "        self.lastCatchCoordinate = self.cornerList.copy()\n",
    "\n",
    "    #   Find neighbot with recursion\n",
    "    def findNeighbor(self):\n",
    "        for coordinate in self.lastCatchCoordinate:\n",
    "            self.checkUp(coordinate[1], coordinate[0])\n",
    "\n",
    "        self.lastCatchCoordinate = self.catchCoordinate\n",
    "        self.neighbors += self.catchCoordinate\n",
    "\n",
    "        if self.catchCoordinate:\n",
    "            self.catchCoordinate = []\n",
    "            self.findNeighbor()\n",
    "\n",
    "    #   Convert 1 to 0 non-neighbor numbers\n",
    "    def processArray(self):\n",
    "\n",
    "        for y, line in enumerate(self.array):\n",
    "            for x, value in enumerate(line):\n",
    "                if not [y,x] in self.neighbors:\n",
    "                    self.array[y][x] = 0\n",
    "\n",
    "        return self.array\n",
    "\n",
    "    def checkUp(self, x, y):\n",
    "        if not y == 0:\n",
    "            if self.array[y - 1][x]:\n",
    "                if not [y-1, x] in self.neighbors:\n",
    "                    self.catchCoordinate.append([y-1, x])\n",
    "                self.checkLeft(x, y)\n",
    "            else:\n",
    "                self.checkLeft(x, y)\n",
    "        else:\n",
    "            self.checkLeft(x, y)\n",
    "\n",
    "    def checkLeft(self, x, y):\n",
    "        if not x == 0:\n",
    "            if self.array[y][x - 1]:\n",
    "                if not [y, x-1] in self.neighbors:\n",
    "                    self.catchCoordinate.append([y, x-1])\n",
    "                self.checkRight(x, y)\n",
    "            else:\n",
    "                self.checkRight(x, y)\n",
    "        else:\n",
    "            self.checkRight(x, y)\n",
    "\n",
    "    def checkRight(self, x, y):\n",
    "        if not x == 5:\n",
    "            if self.array[y][x + 1]:\n",
    "                if not [y, x+1] in self.neighbors:\n",
    "                    self.catchCoordinate.append([y, x+1])\n",
    "                self.checkDown(x, y)\n",
    "            else:\n",
    "                self.checkDown(x, y)\n",
    "        else:\n",
    "            self.checkDown(x, y)\n",
    "\n",
    "    def checkDown(self, x, y):\n",
    "        if not y == 5:\n",
    "            if self.array[y + 1][x]:\n",
    "                if not [y+1, x] in self.neighbors:\n",
    "                    self.catchCoordinate.append([y+1, x])\n",
    "                return\n",
    "            else:\n",
    "                return\n",
    "\n",
    "        else:\n",
    "            return"
   ]
  },
  {
   "cell_type": "code",
   "execution_count": 4,
   "id": "2833499f",
   "metadata": {},
   "outputs": [
    {
     "name": "stdout",
     "output_type": "stream",
     "text": [
      "[1, 0, 0, 0, 0, 0]\n",
      "[0, 0, 0, 1, 1, 1]\n",
      "[0, 0, 0, 0, 1, 0]\n",
      "[1, 1, 0, 0, 1, 0]\n",
      "[1, 0, 0, 0, 0, 0]\n",
      "[1, 0, 0, 0, 0, 1]\n"
     ]
    }
   ],
   "source": [
    "if __name__ == '__main__':\n",
    "\n",
    "    givenArray = [[1,0,0,0,0,0],\n",
    "                   [0,1,0,1,1,1],\n",
    "                   [0,0,1,0,1,0],\n",
    "                   [1,1,0,0,1,0],\n",
    "                   [1,0,1,1,0,0],\n",
    "                   [1,0,0,0,0,1]]\n",
    "\n",
    "    corner = Corner(givenArray)\n",
    "    corner.findCorner()\n",
    "    corner.findNeighbor()\n",
    "    corner.processArray()\n",
    "    for line in corner.processArray():\n",
    "        print(line)"
   ]
  },
  {
   "cell_type": "code",
   "execution_count": null,
   "id": "fa2d3e33",
   "metadata": {},
   "outputs": [],
   "source": []
  }
 ],
 "metadata": {
  "kernelspec": {
   "display_name": "Python 3 (ipykernel)",
   "language": "python",
   "name": "python3"
  },
  "language_info": {
   "codemirror_mode": {
    "name": "ipython",
    "version": 3
   },
   "file_extension": ".py",
   "mimetype": "text/x-python",
   "name": "python",
   "nbconvert_exporter": "python",
   "pygments_lexer": "ipython3",
   "version": "3.7.4"
  }
 },
 "nbformat": 4,
 "nbformat_minor": 5
}
